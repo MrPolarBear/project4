{
 "cells": [
  {
   "cell_type": "code",
   "execution_count": 1,
   "metadata": {},
   "outputs": [],
   "source": [
    "import numpy as np\n",
    "from matplotlib import pyplot as plt\n",
    "import seaborn as sns\n",
    "from sklearn.model_selection import GridSearchCV, cross_val_score\n",
    "from sklearn.pipeline import Pipeline\n",
    "from sklearn.preprocessing import StandardScaler, OneHotEncoder, FunctionTransformer\n",
    "from sklearn.impute import SimpleImputer\n",
    "from sklearn.compose import ColumnTransformer, make_column_selector as selector\n",
    "from sklearn.linear_model import LogisticRegression\n",
    "from sklearn.ensemble import RandomForestClassifier, GradientBoostingClassifier\n",
    "from sklearn.metrics import recall_score, accuracy_score, precision_score, f1_score\n",
    "from sklearn.tree import DecisionTreeClassifier\n",
    "from imblearn.over_sampling import SMOTE\n",
    "from imblearn.pipeline import Pipeline as ImPipeline\n",
    "from pandas.api.types import is_string_dtype, is_numeric_dtype\n",
    "from scipy.stats import norm\n",
    "from scipy import stats\n",
    "from sklearn.preprocessing import LabelEncoder, OneHotEncoder\n",
    "import re\n",
    "import random\n",
    "from nltk.probability import FreqDist\n",
    "from nltk.corpus import stopwords\n",
    "from nltk.tokenize import regexp_tokenize, word_tokenize, RegexpTokenizer\n",
    "import string\n",
    "from sklearn.feature_extraction.text import TfidfVectorizer"
   ]
  },
  {
   "cell_type": "code",
   "execution_count": 2,
   "metadata": {},
   "outputs": [
    {
     "data": {
      "text/html": [
       "<div>\n",
       "<style scoped>\n",
       "    .dataframe tbody tr th:only-of-type {\n",
       "        vertical-align: middle;\n",
       "    }\n",
       "\n",
       "    .dataframe tbody tr th {\n",
       "        vertical-align: top;\n",
       "    }\n",
       "\n",
       "    .dataframe thead th {\n",
       "        text-align: right;\n",
       "    }\n",
       "</style>\n",
       "<table border=\"1\" class=\"dataframe\">\n",
       "  <thead>\n",
       "    <tr style=\"text-align: right;\">\n",
       "      <th></th>\n",
       "      <th>tweet_text</th>\n",
       "      <th>is_there_an_emotion_directed_at_a_brand_or_product</th>\n",
       "      <th>target</th>\n",
       "    </tr>\n",
       "  </thead>\n",
       "  <tbody>\n",
       "    <tr>\n",
       "      <th>0</th>\n",
       "      <td>wesley83 3g iphone 3 hrs tweeting riseaustin d...</td>\n",
       "      <td>Negative emotion</td>\n",
       "      <td>1.0</td>\n",
       "    </tr>\n",
       "    <tr>\n",
       "      <th>1</th>\n",
       "      <td>jessedee know fludapp awesome ipad iphone app ...</td>\n",
       "      <td>Positive emotion</td>\n",
       "      <td>0.0</td>\n",
       "    </tr>\n",
       "    <tr>\n",
       "      <th>2</th>\n",
       "      <td>swonderlin wait ipad 2 also sale sxsw</td>\n",
       "      <td>Positive emotion</td>\n",
       "      <td>0.0</td>\n",
       "    </tr>\n",
       "    <tr>\n",
       "      <th>3</th>\n",
       "      <td>sxsw hope years festival isnt crashy years iph...</td>\n",
       "      <td>Negative emotion</td>\n",
       "      <td>1.0</td>\n",
       "    </tr>\n",
       "    <tr>\n",
       "      <th>4</th>\n",
       "      <td>sxtxstate great stuff fri sxsw marissa mayer g...</td>\n",
       "      <td>Positive emotion</td>\n",
       "      <td>0.0</td>\n",
       "    </tr>\n",
       "    <tr>\n",
       "      <th>...</th>\n",
       "      <td>...</td>\n",
       "      <td>...</td>\n",
       "      <td>...</td>\n",
       "    </tr>\n",
       "    <tr>\n",
       "      <th>3543</th>\n",
       "      <td>mention pr guy convinced switch back iphone gr...</td>\n",
       "      <td>Positive emotion</td>\n",
       "      <td>0.0</td>\n",
       "    </tr>\n",
       "    <tr>\n",
       "      <th>3544</th>\n",
       "      <td>quotpapyrussort like ipadquot nice lol sxsw la...</td>\n",
       "      <td>Positive emotion</td>\n",
       "      <td>0.0</td>\n",
       "    </tr>\n",
       "    <tr>\n",
       "      <th>3545</th>\n",
       "      <td>diller says google tv quotmight run playstatio...</td>\n",
       "      <td>Negative emotion</td>\n",
       "      <td>1.0</td>\n",
       "    </tr>\n",
       "    <tr>\n",
       "      <th>3546</th>\n",
       "      <td>ive always used camera iphone b c image stabil...</td>\n",
       "      <td>Positive emotion</td>\n",
       "      <td>0.0</td>\n",
       "    </tr>\n",
       "    <tr>\n",
       "      <th>3547</th>\n",
       "      <td>ipad everywhere sxsw link</td>\n",
       "      <td>Positive emotion</td>\n",
       "      <td>0.0</td>\n",
       "    </tr>\n",
       "  </tbody>\n",
       "</table>\n",
       "<p>3548 rows × 3 columns</p>\n",
       "</div>"
      ],
      "text/plain": [
       "                                             tweet_text  \\\n",
       "0     wesley83 3g iphone 3 hrs tweeting riseaustin d...   \n",
       "1     jessedee know fludapp awesome ipad iphone app ...   \n",
       "2                 swonderlin wait ipad 2 also sale sxsw   \n",
       "3     sxsw hope years festival isnt crashy years iph...   \n",
       "4     sxtxstate great stuff fri sxsw marissa mayer g...   \n",
       "...                                                 ...   \n",
       "3543  mention pr guy convinced switch back iphone gr...   \n",
       "3544  quotpapyrussort like ipadquot nice lol sxsw la...   \n",
       "3545  diller says google tv quotmight run playstatio...   \n",
       "3546  ive always used camera iphone b c image stabil...   \n",
       "3547                          ipad everywhere sxsw link   \n",
       "\n",
       "     is_there_an_emotion_directed_at_a_brand_or_product  target  \n",
       "0                                      Negative emotion     1.0  \n",
       "1                                      Positive emotion     0.0  \n",
       "2                                      Positive emotion     0.0  \n",
       "3                                      Negative emotion     1.0  \n",
       "4                                      Positive emotion     0.0  \n",
       "...                                                 ...     ...  \n",
       "3543                                   Positive emotion     0.0  \n",
       "3544                                   Positive emotion     0.0  \n",
       "3545                                   Negative emotion     1.0  \n",
       "3546                                   Positive emotion     0.0  \n",
       "3547                                   Positive emotion     0.0  \n",
       "\n",
       "[3548 rows x 3 columns]"
      ]
     },
     "execution_count": 2,
     "metadata": {},
     "output_type": "execute_result"
    }
   ],
   "source": [
    "binary_df_filtered = pd.read_csv(\"data/binary_df_filtered.csv\", encoding='latin-1')\n",
    "binary_df_filtered"
   ]
  },
  {
   "cell_type": "code",
   "execution_count": 3,
   "metadata": {},
   "outputs": [
    {
     "data": {
      "text/html": [
       "<div>\n",
       "<style scoped>\n",
       "    .dataframe tbody tr th:only-of-type {\n",
       "        vertical-align: middle;\n",
       "    }\n",
       "\n",
       "    .dataframe tbody tr th {\n",
       "        vertical-align: top;\n",
       "    }\n",
       "\n",
       "    .dataframe thead th {\n",
       "        text-align: right;\n",
       "    }\n",
       "</style>\n",
       "<table border=\"1\" class=\"dataframe\">\n",
       "  <thead>\n",
       "    <tr style=\"text-align: right;\">\n",
       "      <th></th>\n",
       "      <th>tweet_text</th>\n",
       "      <th>is_there_an_emotion_directed_at_a_brand_or_product</th>\n",
       "      <th>target</th>\n",
       "    </tr>\n",
       "  </thead>\n",
       "  <tbody>\n",
       "    <tr>\n",
       "      <th>0</th>\n",
       "      <td>wesley83 3g iphone 3 hrs tweeting riseaustin d...</td>\n",
       "      <td>Negative emotion</td>\n",
       "      <td>1</td>\n",
       "    </tr>\n",
       "    <tr>\n",
       "      <th>1</th>\n",
       "      <td>jessedee know fludapp awesome ipad iphone app ...</td>\n",
       "      <td>Positive emotion</td>\n",
       "      <td>0</td>\n",
       "    </tr>\n",
       "    <tr>\n",
       "      <th>2</th>\n",
       "      <td>swonderlin wait ipad 2 also sale sxsw</td>\n",
       "      <td>Positive emotion</td>\n",
       "      <td>0</td>\n",
       "    </tr>\n",
       "    <tr>\n",
       "      <th>3</th>\n",
       "      <td>sxsw hope years festival isnt crashy years iph...</td>\n",
       "      <td>Negative emotion</td>\n",
       "      <td>1</td>\n",
       "    </tr>\n",
       "    <tr>\n",
       "      <th>4</th>\n",
       "      <td>sxtxstate great stuff fri sxsw marissa mayer g...</td>\n",
       "      <td>Positive emotion</td>\n",
       "      <td>0</td>\n",
       "    </tr>\n",
       "    <tr>\n",
       "      <th>...</th>\n",
       "      <td>...</td>\n",
       "      <td>...</td>\n",
       "      <td>...</td>\n",
       "    </tr>\n",
       "    <tr>\n",
       "      <th>8931</th>\n",
       "      <td>mention yup dont third app yet im android sugg...</td>\n",
       "      <td>No emotion toward brand or product</td>\n",
       "      <td>2</td>\n",
       "    </tr>\n",
       "    <tr>\n",
       "      <th>8932</th>\n",
       "      <td>ipad everywhere sxsw link</td>\n",
       "      <td>Positive emotion</td>\n",
       "      <td>0</td>\n",
       "    </tr>\n",
       "    <tr>\n",
       "      <th>8933</th>\n",
       "      <td>wave buzz rt mention interrupt regularly sched...</td>\n",
       "      <td>No emotion toward brand or product</td>\n",
       "      <td>2</td>\n",
       "    </tr>\n",
       "    <tr>\n",
       "      <th>8934</th>\n",
       "      <td>googles zeiger physician never reported potent...</td>\n",
       "      <td>No emotion toward brand or product</td>\n",
       "      <td>2</td>\n",
       "    </tr>\n",
       "    <tr>\n",
       "      <th>8935</th>\n",
       "      <td>verizon iphone customers complained time fell ...</td>\n",
       "      <td>No emotion toward brand or product</td>\n",
       "      <td>2</td>\n",
       "    </tr>\n",
       "  </tbody>\n",
       "</table>\n",
       "<p>8936 rows × 3 columns</p>\n",
       "</div>"
      ],
      "text/plain": [
       "                                             tweet_text  \\\n",
       "0     wesley83 3g iphone 3 hrs tweeting riseaustin d...   \n",
       "1     jessedee know fludapp awesome ipad iphone app ...   \n",
       "2                 swonderlin wait ipad 2 also sale sxsw   \n",
       "3     sxsw hope years festival isnt crashy years iph...   \n",
       "4     sxtxstate great stuff fri sxsw marissa mayer g...   \n",
       "...                                                 ...   \n",
       "8931  mention yup dont third app yet im android sugg...   \n",
       "8932                          ipad everywhere sxsw link   \n",
       "8933  wave buzz rt mention interrupt regularly sched...   \n",
       "8934  googles zeiger physician never reported potent...   \n",
       "8935  verizon iphone customers complained time fell ...   \n",
       "\n",
       "     is_there_an_emotion_directed_at_a_brand_or_product  target  \n",
       "0                                      Negative emotion       1  \n",
       "1                                      Positive emotion       0  \n",
       "2                                      Positive emotion       0  \n",
       "3                                      Negative emotion       1  \n",
       "4                                      Positive emotion       0  \n",
       "...                                                 ...     ...  \n",
       "8931                 No emotion toward brand or product       2  \n",
       "8932                                   Positive emotion       0  \n",
       "8933                 No emotion toward brand or product       2  \n",
       "8934                 No emotion toward brand or product       2  \n",
       "8935                 No emotion toward brand or product       2  \n",
       "\n",
       "[8936 rows x 3 columns]"
      ]
     },
     "execution_count": 3,
     "metadata": {},
     "output_type": "execute_result"
    }
   ],
   "source": [
    "MultiClass_df_filtered = pd.read_csv(\"data/MultiClass_df_filtered.csv\", encoding='latin-1')\n",
    "MultiClass_df_filtered"
   ]
  },
  {
   "cell_type": "code",
   "execution_count": 4,
   "metadata": {},
   "outputs": [],
   "source": [
    "sw = stopwords.words('english')"
   ]
  },
  {
   "cell_type": "code",
   "execution_count": 5,
   "metadata": {},
   "outputs": [],
   "source": [
    "def doc_preparer(doc, stop_words=sw):\n",
    "    '''\n",
    "\n",
    "    :param doc: a document from the satire corpus \n",
    "    :return: a document string with words which have been \n",
    "            lemmatized, \n",
    "            parsed for stopwords, \n",
    "            made lowercase,\n",
    "            and stripped of punctuation and numbers.\n",
    "    '''\n",
    "\n",
    "    regex_token = RegexpTokenizer(r\"([a-zA-Z]+(?:’[a-z]+)?)\")\n",
    "\n",
    "    doc = regex_token.tokenize(doc)\n",
    "    #doc = word_tokenize(doc)\n",
    "    doc = [word.lower() for word in doc]\n",
    "    doc = [word for word in doc if word not in sw]\n",
    "    # print(doc)\n",
    "    doc = pos_tag(doc)\n",
    "    doc = [(word[0], get_wordnet_pos(word[1])) for word in doc]\n",
    "    lemmatizer = WordNetLemmatizer() \n",
    "    doc = [lemmatizer.lemmatize(word[0], word[1]) for word in doc]\n",
    "    return ' '.join(doc)"
   ]
  },
  {
   "cell_type": "code",
   "execution_count": 6,
   "metadata": {},
   "outputs": [],
   "source": [
    "def get_wordnet_pos(treebank_tag):\n",
    "    '''\n",
    "    Translate nltk POS to wordnet tags\n",
    "    '''\n",
    "    if treebank_tag.startswith('J'):\n",
    "        return wordnet.ADJ\n",
    "    elif treebank_tag.startswith('V'):\n",
    "        return wordnet.VERB\n",
    "    elif treebank_tag.startswith('N'):\n",
    "        return wordnet.NOUN\n",
    "    elif treebank_tag.startswith('R'):\n",
    "        return wordnet.ADV\n",
    "    else:\n",
    "        return wordnet.NOUN"
   ]
  },
  {
   "attachments": {},
   "cell_type": "markdown",
   "metadata": {},
   "source": [
    "# BINARY CLASSIFIER"
   ]
  },
  {
   "cell_type": "code",
   "execution_count": 7,
   "metadata": {},
   "outputs": [],
   "source": [
    "X = binary_df_filtered['tweet_text']\n",
    "y = binary_df_filtered['target']"
   ]
  },
  {
   "cell_type": "code",
   "execution_count": 8,
   "metadata": {},
   "outputs": [],
   "source": [
    "token_docs = [doc_preparer(doc, sw) for doc in X]"
   ]
  },
  {
   "cell_type": "code",
   "execution_count": 9,
   "metadata": {},
   "outputs": [],
   "source": [
    "X_train, X_valid, y_train, y_valid = train_test_split(token_docs, y,\n",
    "                                                    random_state=42,\n",
    "                                                    test_size=0.20)"
   ]
  },
  {
   "cell_type": "code",
   "execution_count": 10,
   "metadata": {},
   "outputs": [],
   "source": [
    "cv = CountVectorizer()\n",
    "\n",
    "X_train_vec = cv.fit_transform(X_train)\n",
    "X_train_vec = pd.DataFrame.sparse.from_spmatrix(X_train_vec)\n",
    "X_train_vec.columns = sorted(cv.vocabulary_.keys())\n",
    "X_train_vec.set_index(y_train.index, inplace=True)\n",
    "\n",
    "X_valid_vec = cv.transform(X_valid)\n",
    "X_valid_vec = pd.DataFrame.sparse.from_spmatrix(X_valid_vec)\n",
    "X_valid_vec.columns = sorted(cv.vocabulary_.keys())\n",
    "X_valid_vec.set_index(y_valid.index, inplace=True)"
   ]
  },
  {
   "attachments": {},
   "cell_type": "markdown",
   "metadata": {},
   "source": [
    "### MULTINOMIAL NAIVE BAYES MODEL"
   ]
  },
  {
   "cell_type": "code",
   "execution_count": 11,
   "metadata": {},
   "outputs": [
    {
     "data": {
      "text/plain": [
       "0.9422128259337562"
      ]
     },
     "execution_count": 11,
     "metadata": {},
     "output_type": "execute_result"
    },
    {
     "data": {
      "image/png": "[encoded data removed]",
      "text/plain": [
       "<Figure size 432x288 with 2 Axes>"
      ]
     },
     "metadata": {
      "needs_background": "light"
     },
     "output_type": "display_data"
    }
   ],
   "source": [
    "mnb = MultinomialNB()\n",
    "\n",
    "mnb.fit(X_train_vec, y_train)\n",
    "\n",
    "y_hat = mnb.predict(X_train_vec)\n",
    "accuracy_score(y_train, y_hat)\n",
    "cm = confusion_matrix(y_train, y_hat)\n",
    "disp = ConfusionMatrixDisplay(confusion_matrix = cm)\n",
    "disp.plot()\n",
    "accuracy_score(y_train, y_hat)"
   ]
  },
  {
   "cell_type": "code",
   "execution_count": 12,
   "metadata": {},
   "outputs": [
    {
     "name": "stdout",
     "output_type": "stream",
     "text": [
      "0.9145299145299145\n",
      "0.7054945054945055\n",
      "              precision    recall  f1-score   support\n",
      "\n",
      "         0.0       0.95      0.99      0.97      2383\n",
      "         1.0       0.91      0.71      0.80       455\n",
      "\n",
      "    accuracy                           0.94      2838\n",
      "   macro avg       0.93      0.85      0.88      2838\n",
      "weighted avg       0.94      0.94      0.94      2838\n",
      "\n"
     ]
    }
   ],
   "source": [
    "print(precision_score(y_train, y_hat))\n",
    "print(recall_score(y_train, y_hat))\n",
    "print(classification_report(y_train, y_hat))"
   ]
  },
  {
   "attachments": {},
   "cell_type": "markdown",
   "metadata": {},
   "source": [
    "### NEURAL NETWORK MODEL USING KERAS"
   ]
  },
  {
   "cell_type": "code",
   "execution_count": 13,
   "metadata": {},
   "outputs": [],
   "source": [
    "tokenizer = Tokenizer(num_words=5000, oov_token=\"<OOV>\")\n",
    "tokenizer.fit_on_texts(X_train)"
   ]
  },
  {
   "cell_type": "code",
   "execution_count": 14,
   "metadata": {},
   "outputs": [],
   "source": [
    "train_sequences = tokenizer.texts_to_sequences(X_train)\n",
    "valid_sequences = tokenizer.texts_to_sequences(X_valid)"
   ]
  },
  {
   "cell_type": "code",
   "execution_count": 15,
   "metadata": {},
   "outputs": [],
   "source": [
    "train_padded = pad_sequences(train_sequences, maxlen=100, padding='post', truncating='post')\n",
    "valid_padded = pad_sequences(valid_sequences, maxlen=100, padding='post', truncating='post')"
   ]
  },
  {
   "cell_type": "code",
   "execution_count": 16,
   "metadata": {},
   "outputs": [],
   "source": [
    "model = Sequential()\n",
    "model.add(Embedding(5000, 16, input_length=100))\n",
    "model.add(GlobalAveragePooling1D())\n",
    "model.add(Dense(24, activation='relu'))\n",
    "model.add(Dense(1, activation='sigmoid'))"
   ]
  },
  {
   "cell_type": "code",
   "execution_count": 17,
   "metadata": {},
   "outputs": [],
   "source": [
    "model.compile(loss='binary_crossentropy', optimizer='adam', metrics=['accuracy'])"
   ]
  },
  {
   "cell_type": "code",
   "execution_count": 18,
   "metadata": {},
   "outputs": [
    {
     "name": "stdout",
     "output_type": "stream",
     "text": [
      "Epoch 1/60\n",
      "89/89 [==============================] - 0s 2ms/step - loss: 0.5691 - accuracy: 0.8397 - val_loss: 0.4609 - val_accuracy: 0.8380\n",
      "Epoch 2/60\n",
      "89/89 [==============================] - 0s 947us/step - loss: 0.4403 - accuracy: 0.8397 - val_loss: 0.4390 - val_accuracy: 0.8380\n",
      "Epoch 3/60\n",
      "89/89 [==============================] - 0s 885us/step - loss: 0.4338 - accuracy: 0.8397 - val_loss: 0.4374 - val_accuracy: 0.8380\n",
      "Epoch 4/60\n",
      "89/89 [==============================] - 0s 952us/step - loss: 0.4310 - accuracy: 0.8397 - val_loss: 0.4353 - val_accuracy: 0.8380\n",
      "Epoch 5/60\n",
      "89/89 [==============================] - 0s 953us/step - loss: 0.4276 - accuracy: 0.8397 - val_loss: 0.4331 - val_accuracy: 0.8380\n",
      "Epoch 6/60\n",
      "89/89 [==============================] - 0s 908us/step - loss: 0.4234 - accuracy: 0.8397 - val_loss: 0.4313 - val_accuracy: 0.8380\n",
      "Epoch 7/60\n",
      "89/89 [==============================] - 0s 896us/step - loss: 0.4190 - accuracy: 0.8397 - val_loss: 0.4276 - val_accuracy: 0.8380\n",
      "Epoch 8/60\n",
      "89/89 [==============================] - 0s 896us/step - loss: 0.4127 - accuracy: 0.8397 - val_loss: 0.4232 - val_accuracy: 0.8380\n",
      "Epoch 9/60\n",
      "89/89 [==============================] - 0s 919us/step - loss: 0.4038 - accuracy: 0.8397 - val_loss: 0.4166 - val_accuracy: 0.8380\n",
      "Epoch 10/60\n",
      "89/89 [==============================] - 0s 896us/step - loss: 0.3928 - accuracy: 0.8397 - val_loss: 0.4102 - val_accuracy: 0.8380\n",
      "Epoch 11/60\n",
      "89/89 [==============================] - 0s 908us/step - loss: 0.3787 - accuracy: 0.8397 - val_loss: 0.4003 - val_accuracy: 0.8380\n",
      "Epoch 12/60\n",
      "89/89 [==============================] - 0s 908us/step - loss: 0.3585 - accuracy: 0.8397 - val_loss: 0.3954 - val_accuracy: 0.8380\n",
      "Epoch 13/60\n",
      "89/89 [==============================] - 0s 885us/step - loss: 0.3364 - accuracy: 0.8400 - val_loss: 0.3745 - val_accuracy: 0.8380\n",
      "Epoch 14/60\n",
      "89/89 [==============================] - 0s 908us/step - loss: 0.3084 - accuracy: 0.8471 - val_loss: 0.3599 - val_accuracy: 0.8380\n",
      "Epoch 15/60\n",
      "89/89 [==============================] - 0s 885us/step - loss: 0.2793 - accuracy: 0.8668 - val_loss: 0.3470 - val_accuracy: 0.8479\n",
      "Epoch 16/60\n",
      "89/89 [==============================] - 0s 930us/step - loss: 0.2526 - accuracy: 0.8894 - val_loss: 0.3375 - val_accuracy: 0.8521\n",
      "Epoch 17/60\n",
      "89/89 [==============================] - 0s 930us/step - loss: 0.2287 - accuracy: 0.9105 - val_loss: 0.3302 - val_accuracy: 0.8662\n",
      "Epoch 18/60\n",
      "89/89 [==============================] - 0s 883us/step - loss: 0.1992 - accuracy: 0.9278 - val_loss: 0.3236 - val_accuracy: 0.8606\n",
      "Epoch 19/60\n",
      "89/89 [==============================] - 0s 908us/step - loss: 0.1749 - accuracy: 0.9394 - val_loss: 0.3231 - val_accuracy: 0.8676\n",
      "Epoch 20/60\n",
      "89/89 [==============================] - 0s 908us/step - loss: 0.1537 - accuracy: 0.9486 - val_loss: 0.3239 - val_accuracy: 0.8620\n",
      "Epoch 21/60\n",
      "89/89 [==============================] - 0s 919us/step - loss: 0.1360 - accuracy: 0.9524 - val_loss: 0.3241 - val_accuracy: 0.8662\n",
      "Epoch 22/60\n",
      "89/89 [==============================] - 0s 908us/step - loss: 0.1214 - accuracy: 0.9612 - val_loss: 0.3272 - val_accuracy: 0.8592\n",
      "Epoch 23/60\n",
      "89/89 [==============================] - 0s 913us/step - loss: 0.1107 - accuracy: 0.9641 - val_loss: 0.3350 - val_accuracy: 0.8704\n",
      "Epoch 24/60\n",
      "89/89 [==============================] - 0s 905us/step - loss: 0.0973 - accuracy: 0.9697 - val_loss: 0.3376 - val_accuracy: 0.8676\n",
      "Epoch 25/60\n",
      "89/89 [==============================] - 0s 908us/step - loss: 0.0880 - accuracy: 0.9764 - val_loss: 0.3417 - val_accuracy: 0.8662\n",
      "Epoch 26/60\n",
      "89/89 [==============================] - 0s 1ms/step - loss: 0.0835 - accuracy: 0.9743 - val_loss: 0.3537 - val_accuracy: 0.8676\n",
      "Epoch 27/60\n",
      "89/89 [==============================] - 0s 919us/step - loss: 0.0731 - accuracy: 0.9778 - val_loss: 0.3728 - val_accuracy: 0.8732\n",
      "Epoch 28/60\n",
      "89/89 [==============================] - 0s 953us/step - loss: 0.0667 - accuracy: 0.9824 - val_loss: 0.3646 - val_accuracy: 0.8718\n",
      "Epoch 29/60\n",
      "89/89 [==============================] - 0s 1ms/step - loss: 0.0624 - accuracy: 0.9824 - val_loss: 0.3633 - val_accuracy: 0.8718\n",
      "Epoch 30/60\n",
      "89/89 [==============================] - 0s 908us/step - loss: 0.0575 - accuracy: 0.9831 - val_loss: 0.3696 - val_accuracy: 0.8648\n",
      "Epoch 31/60\n",
      "89/89 [==============================] - 0s 919us/step - loss: 0.0526 - accuracy: 0.9877 - val_loss: 0.3774 - val_accuracy: 0.8676\n",
      "Epoch 32/60\n",
      "89/89 [==============================] - 0s 919us/step - loss: 0.0488 - accuracy: 0.9873 - val_loss: 0.3824 - val_accuracy: 0.8690\n",
      "Epoch 33/60\n",
      "89/89 [==============================] - 0s 896us/step - loss: 0.0453 - accuracy: 0.9894 - val_loss: 0.3937 - val_accuracy: 0.8676\n",
      "Epoch 34/60\n",
      "89/89 [==============================] - 0s 897us/step - loss: 0.0421 - accuracy: 0.9887 - val_loss: 0.3988 - val_accuracy: 0.8676\n",
      "Epoch 35/60\n",
      "89/89 [==============================] - 0s 908us/step - loss: 0.0393 - accuracy: 0.9901 - val_loss: 0.4062 - val_accuracy: 0.8676\n",
      "Epoch 36/60\n",
      "89/89 [==============================] - 0s 896us/step - loss: 0.0372 - accuracy: 0.9908 - val_loss: 0.4086 - val_accuracy: 0.8732\n",
      "Epoch 37/60\n",
      "89/89 [==============================] - 0s 892us/step - loss: 0.0343 - accuracy: 0.9905 - val_loss: 0.4408 - val_accuracy: 0.8746\n",
      "Epoch 38/60\n",
      "89/89 [==============================] - 0s 914us/step - loss: 0.0319 - accuracy: 0.9933 - val_loss: 0.4509 - val_accuracy: 0.8718\n",
      "Epoch 39/60\n",
      "89/89 [==============================] - 0s 930us/step - loss: 0.0306 - accuracy: 0.9912 - val_loss: 0.4316 - val_accuracy: 0.8732\n",
      "Epoch 40/60\n",
      "89/89 [==============================] - 0s 1ms/step - loss: 0.0297 - accuracy: 0.9915 - val_loss: 0.4376 - val_accuracy: 0.8746\n",
      "Epoch 41/60\n",
      "89/89 [==============================] - 0s 975us/step - loss: 0.0264 - accuracy: 0.9933 - val_loss: 0.4538 - val_accuracy: 0.8704\n",
      "Epoch 42/60\n",
      "89/89 [==============================] - 0s 1ms/step - loss: 0.0253 - accuracy: 0.9933 - val_loss: 0.4665 - val_accuracy: 0.8676\n",
      "Epoch 43/60\n",
      "89/89 [==============================] - 0s 930us/step - loss: 0.0231 - accuracy: 0.9954 - val_loss: 0.4571 - val_accuracy: 0.8676\n",
      "Epoch 44/60\n",
      "89/89 [==============================] - 0s 908us/step - loss: 0.0224 - accuracy: 0.9944 - val_loss: 0.4751 - val_accuracy: 0.8732\n",
      "Epoch 45/60\n",
      "89/89 [==============================] - 0s 908us/step - loss: 0.0212 - accuracy: 0.9947 - val_loss: 0.5006 - val_accuracy: 0.8690\n",
      "Epoch 46/60\n",
      "89/89 [==============================] - 0s 908us/step - loss: 0.0198 - accuracy: 0.9940 - val_loss: 0.4904 - val_accuracy: 0.8704\n",
      "Epoch 47/60\n",
      "89/89 [==============================] - 0s 885us/step - loss: 0.0184 - accuracy: 0.9954 - val_loss: 0.4964 - val_accuracy: 0.8704\n",
      "Epoch 48/60\n",
      "89/89 [==============================] - 0s 908us/step - loss: 0.0178 - accuracy: 0.9951 - val_loss: 0.5293 - val_accuracy: 0.8704\n",
      "Epoch 49/60\n",
      "89/89 [==============================] - 0s 896us/step - loss: 0.0161 - accuracy: 0.9972 - val_loss: 0.5070 - val_accuracy: 0.8732\n",
      "Epoch 50/60\n",
      "89/89 [==============================] - 0s 1ms/step - loss: 0.0154 - accuracy: 0.9979 - val_loss: 0.5270 - val_accuracy: 0.8690\n",
      "Epoch 51/60\n",
      "89/89 [==============================] - 0s 953us/step - loss: 0.0156 - accuracy: 0.9965 - val_loss: 0.5163 - val_accuracy: 0.8634\n",
      "Epoch 52/60\n",
      "89/89 [==============================] - 0s 953us/step - loss: 0.0138 - accuracy: 0.9968 - val_loss: 0.5476 - val_accuracy: 0.8690\n",
      "Epoch 53/60\n",
      "89/89 [==============================] - 0s 997us/step - loss: 0.0135 - accuracy: 0.9968 - val_loss: 0.5510 - val_accuracy: 0.8718\n",
      "Epoch 54/60\n",
      "89/89 [==============================] - 0s 971us/step - loss: 0.0122 - accuracy: 0.9979 - val_loss: 0.5466 - val_accuracy: 0.8718\n",
      "Epoch 55/60\n",
      "89/89 [==============================] - 0s 959us/step - loss: 0.0114 - accuracy: 0.9982 - val_loss: 0.5683 - val_accuracy: 0.8704\n",
      "Epoch 56/60\n",
      "89/89 [==============================] - 0s 964us/step - loss: 0.0117 - accuracy: 0.9972 - val_loss: 0.5614 - val_accuracy: 0.8704\n",
      "Epoch 57/60\n",
      "89/89 [==============================] - 0s 975us/step - loss: 0.0102 - accuracy: 0.9982 - val_loss: 0.5943 - val_accuracy: 0.8690\n",
      "Epoch 58/60\n",
      "89/89 [==============================] - 0s 937us/step - loss: 0.0099 - accuracy: 0.9982 - val_loss: 0.5826 - val_accuracy: 0.8704\n",
      "Epoch 59/60\n",
      "89/89 [==============================] - 0s 925us/step - loss: 0.0096 - accuracy: 0.9989 - val_loss: 0.5869 - val_accuracy: 0.8718\n",
      "Epoch 60/60\n",
      "89/89 [==============================] - 0s 892us/step - loss: 0.0096 - accuracy: 0.9979 - val_loss: 0.6129 - val_accuracy: 0.8732\n"
     ]
    },
    {
     "data": {
      "text/plain": [
       "<tensorflow.python.keras.callbacks.History at 0x180f484ed90>"
      ]
     },
     "execution_count": 18,
     "metadata": {},
     "output_type": "execute_result"
    }
   ],
   "source": [
    "model.fit(train_padded, y_train, epochs=60, validation_data=(valid_padded, y_valid))"
   ]
  },
  {
   "cell_type": "code",
   "execution_count": 19,
   "metadata": {},
   "outputs": [
    {
     "name": "stdout",
     "output_type": "stream",
     "text": [
      "23/23 [==============================] - 0s 520us/step - loss: 0.6129 - accuracy: 0.8732\n",
      "Loss:  0.6129191517829895\n",
      "Accuracy:  0.8732394576072693\n"
     ]
    }
   ],
   "source": [
    "loss, accuracy = model.evaluate(valid_padded, y_valid)\n",
    "print(\"Loss: \", loss)\n",
    "print(\"Accuracy: \", accuracy)"
   ]
  },
  {
   "attachments": {},
   "cell_type": "markdown",
   "metadata": {},
   "source": [
    "### XGBOOST AND RANDOMFOREST MODELS"
   ]
  },
  {
   "cell_type": "code",
   "execution_count": 20,
   "metadata": {},
   "outputs": [],
   "source": [
    "xgb = XGBClassifier(use_label_encoder=False, eval_metric='logloss')"
   ]
  },
  {
   "cell_type": "code",
   "execution_count": 21,
   "metadata": {},
   "outputs": [
    {
     "name": "stdout",
     "output_type": "stream",
     "text": [
      "[13:30:33] WARNING: C:\\Users\\Administrator\\workspace\\xgboost-win64_release_1.2.0\\src\\learner.cc:516: \n",
      "Parameters: { use_label_encoder } might not be used.\n",
      "\n",
      "  This may not be accurate due to some parameters are only used in language bindings but\n",
      "  passed down to XGBoost core.  Or some parameters are not used but slip through this\n",
      "  verification. Please open an issue if you find above cases.\n",
      "\n",
      "\n"
     ]
    },
    {
     "data": {
      "text/plain": [
       "XGBClassifier(base_score=0.5, booster='gbtree', colsample_bylevel=1,\n",
       "              colsample_bynode=1, colsample_bytree=1, eval_metric='logloss',\n",
       "              gamma=0, gpu_id=-1, importance_type='gain',\n",
       "              interaction_constraints='', learning_rate=0.300000012,\n",
       "              max_delta_step=0, max_depth=6, min_child_weight=1, missing=nan,\n",
       "              monotone_constraints='()', n_estimators=100, n_jobs=0,\n",
       "              num_parallel_tree=1, random_state=0, reg_alpha=0, reg_lambda=1,\n",
       "              scale_pos_weight=1, subsample=1, tree_method='exact',\n",
       "              use_label_encoder=False, validate_parameters=1, verbosity=None)"
      ]
     },
     "execution_count": 21,
     "metadata": {},
     "output_type": "execute_result"
    }
   ],
   "source": [
    "xgb.fit(X_train_vec, y_train)"
   ]
  },
  {
   "cell_type": "code",
   "execution_count": 22,
   "metadata": {},
   "outputs": [],
   "source": [
    "y_hat_xgb = xgb.predict(X_train_vec)"
   ]
  },
  {
   "cell_type": "code",
   "execution_count": 23,
   "metadata": {},
   "outputs": [
    {
     "name": "stdout",
     "output_type": "stream",
     "text": [
      "Accuracy:  0.9189570119802678\n",
      "Precision:  0.9482071713147411\n",
      "Recall:  0.5230769230769231\n",
      "              precision    recall  f1-score   support\n",
      "\n",
      "         0.0       0.92      0.99      0.95      2383\n",
      "         1.0       0.95      0.52      0.67       455\n",
      "\n",
      "    accuracy                           0.92      2838\n",
      "   macro avg       0.93      0.76      0.81      2838\n",
      "weighted avg       0.92      0.92      0.91      2838\n",
      "\n"
     ]
    }
   ],
   "source": [
    "print(\"Accuracy: \", accuracy_score(y_train, y_hat_xgb))\n",
    "print(\"Precision: \", precision_score(y_train, y_hat_xgb))\n",
    "print(\"Recall: \", recall_score(y_train, y_hat_xgb))\n",
    "print(classification_report(y_train, y_hat_xgb))"
   ]
  },
  {
   "cell_type": "code",
   "execution_count": 24,
   "metadata": {},
   "outputs": [
    {
     "data": {
      "text/plain": [
       "<sklearn.metrics._plot.confusion_matrix.ConfusionMatrixDisplay at 0x18099799df0>"
      ]
     },
     "execution_count": 24,
     "metadata": {},
     "output_type": "execute_result"
    },
    {
     "data": {
      "image/png": "[encoded data removed]",
      "text/plain": [
       "<Figure size 432x288 with 2 Axes>"
      ]
     },
     "metadata": {
      "needs_background": "light"
     },
     "output_type": "display_data"
    }
   ],
   "source": [
    "cm_xgb = confusion_matrix(y_train, y_hat_xgb)\n",
    "disp_xgb = ConfusionMatrixDisplay(confusion_matrix=cm_xgb)\n",
    "disp_xgb.plot()"
   ]
  },
  {
   "cell_type": "code",
   "execution_count": 25,
   "metadata": {},
   "outputs": [],
   "source": [
    "rfc = RandomForestClassifier(n_estimators=100, random_state=42)"
   ]
  },
  {
   "cell_type": "code",
   "execution_count": 26,
   "metadata": {},
   "outputs": [
    {
     "data": {
      "text/plain": [
       "RandomForestClassifier(random_state=42)"
      ]
     },
     "execution_count": 26,
     "metadata": {},
     "output_type": "execute_result"
    }
   ],
   "source": [
    "rfc.fit(X_train_vec, y_train)"
   ]
  },
  {
   "cell_type": "code",
   "execution_count": 27,
   "metadata": {},
   "outputs": [],
   "source": [
    "y_pred_rfc = rfc.predict(X_valid_vec)"
   ]
  },
  {
   "cell_type": "code",
   "execution_count": 28,
   "metadata": {},
   "outputs": [
    {
     "name": "stdout",
     "output_type": "stream",
     "text": [
      "Accuracy:  0.8830985915492958\n",
      "Precision:  0.9\n",
      "Recall:  0.3130434782608696\n",
      "              precision    recall  f1-score   support\n",
      "\n",
      "         0.0       0.88      0.99      0.93       595\n",
      "         1.0       0.90      0.31      0.46       115\n",
      "\n",
      "    accuracy                           0.88       710\n",
      "   macro avg       0.89      0.65      0.70       710\n",
      "weighted avg       0.88      0.88      0.86       710\n",
      "\n"
     ]
    }
   ],
   "source": [
    "print(\"Accuracy: \", accuracy_score(y_valid, y_pred_rfc))\n",
    "print(\"Precision: \", precision_score(y_valid, y_pred_rfc))\n",
    "print(\"Recall: \", recall_score(y_valid, y_pred_rfc))\n",
    "print(classification_report(y_valid, y_pred_rfc))"
   ]
  },
  {
   "attachments": {},
   "cell_type": "markdown",
   "metadata": {},
   "source": [
    "# MULTICLASS CLASSIFIER"
   ]
  },
  {
   "attachments": {},
   "cell_type": "markdown",
   "metadata": {},
   "source": [
    "### MULTINOMIAL NAIVE BAYES MODEL"
   ]
  },
  {
   "cell_type": "code",
   "execution_count": 29,
   "metadata": {},
   "outputs": [],
   "source": [
    "X = MultiClass_df_filtered['tweet_text'].astype(str)\n",
    "y = MultiClass_df_filtered['target']"
   ]
  },
  {
   "cell_type": "code",
   "execution_count": 30,
   "metadata": {},
   "outputs": [],
   "source": [
    "token_docs = [doc_preparer(doc, sw) for doc in X]"
   ]
  },
  {
   "cell_type": "code",
   "execution_count": 31,
   "metadata": {},
   "outputs": [],
   "source": [
    "X_train, X_valid, y_train, y_valid = train_test_split(token_docs, y,\n",
    "                                                    random_state=42,\n",
    "                                                    test_size=0.20)"
   ]
  },
  {
   "cell_type": "code",
   "execution_count": 32,
   "metadata": {},
   "outputs": [],
   "source": [
    "cv = CountVectorizer()\n",
    "\n",
    "X_train_vec = cv.fit_transform(X_train)\n",
    "X_train_vec = pd.DataFrame.sparse.from_spmatrix(X_train_vec)\n",
    "X_train_vec.columns = sorted(cv.vocabulary_.keys())\n",
    "X_train_vec.set_index(y_train.index, inplace=True)\n",
    "\n",
    "X_valid_vec = cv.transform(X_valid)\n",
    "X_valid_vec = pd.DataFrame.sparse.from_spmatrix(X_valid_vec)\n",
    "X_valid_vec.columns = sorted(cv.vocabulary_.keys())\n",
    "X_valid_vec.set_index(y_valid.index, inplace=True)"
   ]
  },
  {
   "cell_type": "code",
   "execution_count": 33,
   "metadata": {},
   "outputs": [
    {
     "data": {
      "text/plain": [
       "0.8080581980973699"
      ]
     },
     "execution_count": 33,
     "metadata": {},
     "output_type": "execute_result"
    },
    {
     "data": {
      "image/png": "[encoded data removed]",
      "text/plain": [
       "<Figure size 432x288 with 2 Axes>"
      ]
     },
     "metadata": {
      "needs_background": "light"
     },
     "output_type": "display_data"
    }
   ],
   "source": [
    "mnb = MultinomialNB()\n",
    "\n",
    "mnb.fit(X_train_vec, y_train)\n",
    "\n",
    "y_hat = mnb.predict(X_train_vec)\n",
    "accuracy_score(y_train, y_hat)\n",
    "cm = confusion_matrix(y_train, y_hat)\n",
    "disp = ConfusionMatrixDisplay(confusion_matrix = cm)\n",
    "disp.plot()\n",
    "accuracy_score(y_train, y_hat)"
   ]
  },
  {
   "cell_type": "code",
   "execution_count": 34,
   "metadata": {},
   "outputs": [
    {
     "name": "stdout",
     "output_type": "stream",
     "text": [
      "0.8080581980973699\n",
      "0.8080581980973699\n",
      "              precision    recall  f1-score   support\n",
      "\n",
      "           0       0.77      0.72      0.75      2394\n",
      "           1       0.80      0.42      0.55       447\n",
      "           2       0.83      0.90      0.86      4307\n",
      "\n",
      "    accuracy                           0.81      7148\n",
      "   macro avg       0.80      0.68      0.72      7148\n",
      "weighted avg       0.81      0.81      0.80      7148\n",
      "\n"
     ]
    }
   ],
   "source": [
    "print(precision_score(y_train, y_hat, average='micro'))\n",
    "print(recall_score(y_train, y_hat, average='micro'))\n",
    "print(classification_report(y_train, y_hat))"
   ]
  },
  {
   "attachments": {},
   "cell_type": "markdown",
   "metadata": {},
   "source": [
    "### NEURAL NETWORK MODEL USING KERAS"
   ]
  },
  {
   "cell_type": "code",
   "execution_count": 35,
   "metadata": {},
   "outputs": [],
   "source": [
    "tokenizer = Tokenizer(num_words=5000, oov_token=\"<OOV>\")\n",
    "tokenizer.fit_on_texts(X_train)"
   ]
  },
  {
   "cell_type": "code",
   "execution_count": 36,
   "metadata": {},
   "outputs": [],
   "source": [
    "train_sequences = tokenizer.texts_to_sequences(X_train)\n",
    "valid_sequences = tokenizer.texts_to_sequences(X_valid)"
   ]
  },
  {
   "cell_type": "code",
   "execution_count": 37,
   "metadata": {},
   "outputs": [],
   "source": [
    "train_padded = pad_sequences(train_sequences, maxlen=100, padding='post', truncating='post')\n",
    "valid_padded = pad_sequences(valid_sequences, maxlen=100, padding='post', truncating='post')"
   ]
  },
  {
   "cell_type": "code",
   "execution_count": 38,
   "metadata": {},
   "outputs": [],
   "source": [
    "num_classes = 3"
   ]
  },
  {
   "cell_type": "code",
   "execution_count": 39,
   "metadata": {},
   "outputs": [],
   "source": [
    "model = Sequential()\n",
    "model.add(Embedding(5000, 16, input_length=100))\n",
    "model.add(GlobalAveragePooling1D())\n",
    "model.add(Dense(12, activation='relu'))\n",
    "model.add(Dense(num_classes, activation='softmax')) \n",
    "model.compile(loss='categorical_crossentropy', optimizer='adam', metrics=['accuracy']) "
   ]
  },
  {
   "cell_type": "code",
   "execution_count": 40,
   "metadata": {},
   "outputs": [],
   "source": [
    "y_train_encoded = to_categorical(y_train)\n",
    "y_valid_encoded = to_categorical(y_valid)"
   ]
  },
  {
   "cell_type": "code",
   "execution_count": 41,
   "metadata": {},
   "outputs": [
    {
     "name": "stdout",
     "output_type": "stream",
     "text": [
      "Epoch 1/90\n",
      "154/224 [===================>..........] - ETA: 0s - loss: 0.9822 - accuracy: 0.5049WARNING:tensorflow:Callbacks method `on_test_batch_end` is slow compared to the batch time (batch time: 0.0000s vs `on_test_batch_end` time: 0.0010s). Check your callbacks.\n",
      "224/224 [==============================] - 0s 1ms/step - loss: 0.9410 - accuracy: 0.5337 - val_loss: 0.8530 - val_accuracy: 0.6046\n",
      "Epoch 2/90\n",
      "224/224 [==============================] - 0s 793us/step - loss: 0.8418 - accuracy: 0.6025 - val_loss: 0.8501 - val_accuracy: 0.6046\n",
      "Epoch 3/90\n",
      "224/224 [==============================] - 0s 802us/step - loss: 0.8392 - accuracy: 0.6025 - val_loss: 0.8482 - val_accuracy: 0.6046\n",
      "Epoch 4/90\n",
      "224/224 [==============================] - 0s 810us/step - loss: 0.8357 - accuracy: 0.6025 - val_loss: 0.8453 - val_accuracy: 0.6046\n",
      "Epoch 5/90\n",
      "224/224 [==============================] - 0s 841us/step - loss: 0.8315 - accuracy: 0.6025 - val_loss: 0.8420 - val_accuracy: 0.6046\n",
      "Epoch 6/90\n",
      "224/224 [==============================] - 0s 846us/step - loss: 0.8260 - accuracy: 0.6025 - val_loss: 0.8386 - val_accuracy: 0.6046\n",
      "Epoch 7/90\n",
      "224/224 [==============================] - 0s 788us/step - loss: 0.8191 - accuracy: 0.6025 - val_loss: 0.8305 - val_accuracy: 0.6046\n",
      "Epoch 8/90\n",
      "224/224 [==============================] - 0s 913us/step - loss: 0.8084 - accuracy: 0.6025 - val_loss: 0.8212 - val_accuracy: 0.6046\n",
      "Epoch 9/90\n",
      "224/224 [==============================] - 0s 808us/step - loss: 0.7838 - accuracy: 0.6034 - val_loss: 0.7996 - val_accuracy: 0.6079\n",
      "Epoch 10/90\n",
      "224/224 [==============================] - 0s 810us/step - loss: 0.7480 - accuracy: 0.6337 - val_loss: 0.7874 - val_accuracy: 0.6186\n",
      "Epoch 11/90\n",
      "224/224 [==============================] - 0s 872us/step - loss: 0.7183 - accuracy: 0.6589 - val_loss: 0.7844 - val_accuracy: 0.6281\n",
      "Epoch 12/90\n",
      "224/224 [==============================] - 0s 833us/step - loss: 0.6940 - accuracy: 0.6821 - val_loss: 0.7820 - val_accuracy: 0.6353\n",
      "Epoch 13/90\n",
      "224/224 [==============================] - 0s 797us/step - loss: 0.6675 - accuracy: 0.6924 - val_loss: 0.7768 - val_accuracy: 0.6370\n",
      "Epoch 14/90\n",
      "224/224 [==============================] - 0s 810us/step - loss: 0.6446 - accuracy: 0.7062 - val_loss: 0.7775 - val_accuracy: 0.6443\n",
      "Epoch 15/90\n",
      "224/224 [==============================] - 0s 824us/step - loss: 0.6245 - accuracy: 0.7201 - val_loss: 0.7790 - val_accuracy: 0.6449\n",
      "Epoch 16/90\n",
      "224/224 [==============================] - 0s 797us/step - loss: 0.6064 - accuracy: 0.7317 - val_loss: 0.7878 - val_accuracy: 0.6454\n",
      "Epoch 17/90\n",
      "224/224 [==============================] - 0s 799us/step - loss: 0.5904 - accuracy: 0.7434 - val_loss: 0.7855 - val_accuracy: 0.6404\n",
      "Epoch 18/90\n",
      "224/224 [==============================] - 0s 796us/step - loss: 0.5761 - accuracy: 0.7514 - val_loss: 0.7949 - val_accuracy: 0.6600\n",
      "Epoch 19/90\n",
      "224/224 [==============================] - 0s 798us/step - loss: 0.5618 - accuracy: 0.7559 - val_loss: 0.7970 - val_accuracy: 0.6628\n",
      "Epoch 20/90\n",
      "224/224 [==============================] - 0s 810us/step - loss: 0.5490 - accuracy: 0.7655 - val_loss: 0.8027 - val_accuracy: 0.6622\n",
      "Epoch 21/90\n",
      "224/224 [==============================] - 0s 886us/step - loss: 0.5385 - accuracy: 0.7713 - val_loss: 0.8075 - val_accuracy: 0.6611\n",
      "Epoch 22/90\n",
      "224/224 [==============================] - 0s 801us/step - loss: 0.5260 - accuracy: 0.7816 - val_loss: 0.8230 - val_accuracy: 0.6588\n",
      "Epoch 23/90\n",
      "224/224 [==============================] - 0s 806us/step - loss: 0.5164 - accuracy: 0.7825 - val_loss: 0.8184 - val_accuracy: 0.6611\n",
      "Epoch 24/90\n",
      "224/224 [==============================] - 0s 793us/step - loss: 0.5037 - accuracy: 0.7907 - val_loss: 0.8234 - val_accuracy: 0.6616\n",
      "Epoch 25/90\n",
      "224/224 [==============================] - 0s 831us/step - loss: 0.4943 - accuracy: 0.7953 - val_loss: 0.8376 - val_accuracy: 0.6583\n",
      "Epoch 26/90\n",
      "224/224 [==============================] - 0s 817us/step - loss: 0.4842 - accuracy: 0.8012 - val_loss: 0.8418 - val_accuracy: 0.6622\n",
      "Epoch 27/90\n",
      "224/224 [==============================] - 0s 796us/step - loss: 0.4744 - accuracy: 0.8067 - val_loss: 0.8549 - val_accuracy: 0.6510\n",
      "Epoch 28/90\n",
      "224/224 [==============================] - 0s 819us/step - loss: 0.4632 - accuracy: 0.8156 - val_loss: 0.8532 - val_accuracy: 0.6633\n",
      "Epoch 29/90\n",
      "224/224 [==============================] - 0s 815us/step - loss: 0.4518 - accuracy: 0.8193 - val_loss: 0.8626 - val_accuracy: 0.6622\n",
      "Epoch 30/90\n",
      "224/224 [==============================] - 0s 837us/step - loss: 0.4402 - accuracy: 0.8248 - val_loss: 0.8676 - val_accuracy: 0.6532\n",
      "Epoch 31/90\n",
      "224/224 [==============================] - 0s 913us/step - loss: 0.4276 - accuracy: 0.8331 - val_loss: 0.8752 - val_accuracy: 0.6532\n",
      "Epoch 32/90\n",
      "224/224 [==============================] - 0s 797us/step - loss: 0.4170 - accuracy: 0.8388 - val_loss: 0.8773 - val_accuracy: 0.6661\n",
      "Epoch 33/90\n",
      "224/224 [==============================] - 0s 857us/step - loss: 0.4075 - accuracy: 0.8426 - val_loss: 0.8835 - val_accuracy: 0.6633\n",
      "Epoch 34/90\n",
      "224/224 [==============================] - 0s 832us/step - loss: 0.3976 - accuracy: 0.8446 - val_loss: 0.8895 - val_accuracy: 0.6583\n",
      "Epoch 35/90\n",
      "224/224 [==============================] - 0s 794us/step - loss: 0.3850 - accuracy: 0.8497 - val_loss: 0.8969 - val_accuracy: 0.6572\n",
      "Epoch 36/90\n",
      "224/224 [==============================] - 0s 804us/step - loss: 0.3796 - accuracy: 0.8538 - val_loss: 0.9200 - val_accuracy: 0.6566\n",
      "Epoch 37/90\n",
      "224/224 [==============================] - 0s 842us/step - loss: 0.3669 - accuracy: 0.8562 - val_loss: 0.9251 - val_accuracy: 0.6616\n",
      "Epoch 38/90\n",
      "224/224 [==============================] - 0s 793us/step - loss: 0.3575 - accuracy: 0.8622 - val_loss: 0.9350 - val_accuracy: 0.6600\n",
      "Epoch 39/90\n",
      "224/224 [==============================] - 0s 793us/step - loss: 0.3512 - accuracy: 0.8642 - val_loss: 0.9394 - val_accuracy: 0.6628\n",
      "Epoch 40/90\n",
      "224/224 [==============================] - 0s 793us/step - loss: 0.3442 - accuracy: 0.8665 - val_loss: 0.9472 - val_accuracy: 0.6628\n",
      "Epoch 41/90\n",
      "224/224 [==============================] - 0s 797us/step - loss: 0.3365 - accuracy: 0.8674 - val_loss: 0.9614 - val_accuracy: 0.6616\n",
      "Epoch 42/90\n",
      "224/224 [==============================] - 0s 882us/step - loss: 0.3301 - accuracy: 0.8710 - val_loss: 0.9872 - val_accuracy: 0.6510\n",
      "Epoch 43/90\n",
      "224/224 [==============================] - 0s 796us/step - loss: 0.3228 - accuracy: 0.8756 - val_loss: 1.0108 - val_accuracy: 0.6504\n",
      "Epoch 44/90\n",
      "224/224 [==============================] - 0s 801us/step - loss: 0.3198 - accuracy: 0.8726 - val_loss: 1.0156 - val_accuracy: 0.6516\n",
      "Epoch 45/90\n",
      "224/224 [==============================] - 0s 837us/step - loss: 0.3136 - accuracy: 0.8741 - val_loss: 1.0024 - val_accuracy: 0.6700\n",
      "Epoch 46/90\n",
      "224/224 [==============================] - 0s 855us/step - loss: 0.3043 - accuracy: 0.8808 - val_loss: 1.0091 - val_accuracy: 0.6678\n",
      "Epoch 47/90\n",
      "224/224 [==============================] - 0s 797us/step - loss: 0.3008 - accuracy: 0.8795 - val_loss: 1.0231 - val_accuracy: 0.6689\n",
      "Epoch 48/90\n",
      "224/224 [==============================] - 0s 868us/step - loss: 0.2957 - accuracy: 0.8832 - val_loss: 1.0666 - val_accuracy: 0.6549\n",
      "Epoch 49/90\n",
      "224/224 [==============================] - 0s 875us/step - loss: 0.2911 - accuracy: 0.8853 - val_loss: 1.0547 - val_accuracy: 0.6655\n",
      "Epoch 50/90\n",
      "224/224 [==============================] - 0s 1ms/step - loss: 0.2846 - accuracy: 0.8832 - val_loss: 1.0655 - val_accuracy: 0.6628\n",
      "Epoch 51/90\n",
      "224/224 [==============================] - 0s 956us/step - loss: 0.2811 - accuracy: 0.8860 - val_loss: 1.0926 - val_accuracy: 0.6611\n",
      "Epoch 52/90\n",
      "224/224 [==============================] - 0s 1ms/step - loss: 0.2780 - accuracy: 0.8882 - val_loss: 1.1084 - val_accuracy: 0.6616\n",
      "Epoch 53/90\n",
      "224/224 [==============================] - 0s 808us/step - loss: 0.2717 - accuracy: 0.8902 - val_loss: 1.1169 - val_accuracy: 0.6622\n",
      "Epoch 54/90\n",
      "224/224 [==============================] - 0s 810us/step - loss: 0.2706 - accuracy: 0.8900 - val_loss: 1.1522 - val_accuracy: 0.6532\n",
      "Epoch 55/90\n",
      "224/224 [==============================] - 0s 899us/step - loss: 0.2663 - accuracy: 0.8900 - val_loss: 1.1168 - val_accuracy: 0.6723\n",
      "Epoch 56/90\n",
      "224/224 [==============================] - 0s 806us/step - loss: 0.2644 - accuracy: 0.8913 - val_loss: 1.1353 - val_accuracy: 0.6661\n",
      "Epoch 57/90\n",
      "224/224 [==============================] - 0s 824us/step - loss: 0.2586 - accuracy: 0.8930 - val_loss: 1.1411 - val_accuracy: 0.6756\n",
      "Epoch 58/90\n",
      "224/224 [==============================] - 0s 797us/step - loss: 0.2571 - accuracy: 0.8914 - val_loss: 1.1566 - val_accuracy: 0.6745\n",
      "Epoch 59/90\n",
      "224/224 [==============================] - 0s 814us/step - loss: 0.2527 - accuracy: 0.8951 - val_loss: 1.1640 - val_accuracy: 0.6745\n",
      "Epoch 60/90\n",
      "224/224 [==============================] - 0s 801us/step - loss: 0.2492 - accuracy: 0.8979 - val_loss: 1.2146 - val_accuracy: 0.6633\n",
      "Epoch 61/90\n",
      "224/224 [==============================] - 0s 806us/step - loss: 0.2494 - accuracy: 0.8958 - val_loss: 1.1901 - val_accuracy: 0.6700\n",
      "Epoch 62/90\n",
      "224/224 [==============================] - 0s 806us/step - loss: 0.2445 - accuracy: 0.8961 - val_loss: 1.2233 - val_accuracy: 0.6650\n",
      "Epoch 63/90\n",
      "224/224 [==============================] - 0s 801us/step - loss: 0.2398 - accuracy: 0.8986 - val_loss: 1.2508 - val_accuracy: 0.6594\n",
      "Epoch 64/90\n",
      "224/224 [==============================] - 0s 819us/step - loss: 0.2376 - accuracy: 0.9035 - val_loss: 1.2476 - val_accuracy: 0.6683\n",
      "Epoch 65/90\n",
      "224/224 [==============================] - 0s 806us/step - loss: 0.2382 - accuracy: 0.9008 - val_loss: 1.2565 - val_accuracy: 0.6661\n",
      "Epoch 66/90\n",
      "224/224 [==============================] - 0s 791us/step - loss: 0.2334 - accuracy: 0.9001 - val_loss: 1.2646 - val_accuracy: 0.6689\n",
      "Epoch 67/90\n",
      "224/224 [==============================] - 0s 801us/step - loss: 0.2294 - accuracy: 0.9042 - val_loss: 1.2795 - val_accuracy: 0.6706\n",
      "Epoch 68/90\n",
      "224/224 [==============================] - 0s 880us/step - loss: 0.2308 - accuracy: 0.9024 - val_loss: 1.2966 - val_accuracy: 0.6678\n",
      "Epoch 69/90\n",
      "224/224 [==============================] - 0s 804us/step - loss: 0.2277 - accuracy: 0.9057 - val_loss: 1.3089 - val_accuracy: 0.6655\n",
      "Epoch 70/90\n",
      "224/224 [==============================] - 0s 828us/step - loss: 0.2246 - accuracy: 0.9072 - val_loss: 1.3226 - val_accuracy: 0.6678\n",
      "Epoch 71/90\n",
      "224/224 [==============================] - 0s 939us/step - loss: 0.2243 - accuracy: 0.9051 - val_loss: 1.3564 - val_accuracy: 0.6594\n",
      "Epoch 72/90\n",
      "224/224 [==============================] - 0s 855us/step - loss: 0.2230 - accuracy: 0.9049 - val_loss: 1.3342 - val_accuracy: 0.6667\n",
      "Epoch 73/90\n",
      "224/224 [==============================] - 0s 801us/step - loss: 0.2205 - accuracy: 0.9071 - val_loss: 1.3835 - val_accuracy: 0.6560\n",
      "Epoch 74/90\n",
      "224/224 [==============================] - 0s 787us/step - loss: 0.2179 - accuracy: 0.9085 - val_loss: 1.3507 - val_accuracy: 0.6672\n",
      "Epoch 75/90\n",
      "224/224 [==============================] - 0s 791us/step - loss: 0.2149 - accuracy: 0.9072 - val_loss: 1.3662 - val_accuracy: 0.6655\n",
      "Epoch 76/90\n",
      "224/224 [==============================] - 0s 793us/step - loss: 0.2151 - accuracy: 0.9057 - val_loss: 1.3939 - val_accuracy: 0.6655\n",
      "Epoch 77/90\n",
      "224/224 [==============================] - 0s 793us/step - loss: 0.2109 - accuracy: 0.9089 - val_loss: 1.4118 - val_accuracy: 0.6678\n",
      "Epoch 78/90\n",
      "224/224 [==============================] - 0s 797us/step - loss: 0.2084 - accuracy: 0.9089 - val_loss: 1.4227 - val_accuracy: 0.6667\n",
      "Epoch 79/90\n",
      "224/224 [==============================] - 0s 913us/step - loss: 0.2113 - accuracy: 0.9082 - val_loss: 1.4246 - val_accuracy: 0.6639\n",
      "Epoch 80/90\n",
      "224/224 [==============================] - 0s 797us/step - loss: 0.2092 - accuracy: 0.9113 - val_loss: 1.4324 - val_accuracy: 0.6689\n",
      "Epoch 81/90\n",
      "224/224 [==============================] - 0s 788us/step - loss: 0.2068 - accuracy: 0.9102 - val_loss: 1.4793 - val_accuracy: 0.6588\n",
      "Epoch 82/90\n",
      "224/224 [==============================] - 0s 797us/step - loss: 0.2076 - accuracy: 0.9068 - val_loss: 1.4471 - val_accuracy: 0.6661\n",
      "Epoch 83/90\n",
      "224/224 [==============================] - 0s 800us/step - loss: 0.2037 - accuracy: 0.9155 - val_loss: 1.5298 - val_accuracy: 0.6594\n",
      "Epoch 84/90\n",
      "224/224 [==============================] - 0s 822us/step - loss: 0.2035 - accuracy: 0.9085 - val_loss: 1.4766 - val_accuracy: 0.6594\n",
      "Epoch 85/90\n",
      "224/224 [==============================] - 0s 804us/step - loss: 0.2016 - accuracy: 0.9152 - val_loss: 1.5208 - val_accuracy: 0.6572\n",
      "Epoch 86/90\n",
      "224/224 [==============================] - 0s 810us/step - loss: 0.1998 - accuracy: 0.9151 - val_loss: 1.4855 - val_accuracy: 0.6639\n",
      "Epoch 87/90\n",
      "224/224 [==============================] - 0s 788us/step - loss: 0.2025 - accuracy: 0.9135 - val_loss: 1.5167 - val_accuracy: 0.6628\n",
      "Epoch 88/90\n",
      "224/224 [==============================] - 0s 793us/step - loss: 0.1980 - accuracy: 0.9109 - val_loss: 1.5253 - val_accuracy: 0.6605\n",
      "Epoch 89/90\n",
      "224/224 [==============================] - 0s 801us/step - loss: 0.1998 - accuracy: 0.9123 - val_loss: 1.5305 - val_accuracy: 0.6678\n",
      "Epoch 90/90\n",
      "224/224 [==============================] - 0s 928us/step - loss: 0.1973 - accuracy: 0.9144 - val_loss: 1.5375 - val_accuracy: 0.6628\n"
     ]
    },
    {
     "data": {
      "text/plain": [
       "<tensorflow.python.keras.callbacks.History at 0x180ed288850>"
      ]
     },
     "execution_count": 41,
     "metadata": {},
     "output_type": "execute_result"
    }
   ],
   "source": [
    "model.fit(train_padded, y_train_encoded, epochs=90, validation_data=(valid_padded, y_valid_encoded))"
   ]
  },
  {
   "cell_type": "code",
   "execution_count": 42,
   "metadata": {},
   "outputs": [
    {
     "name": "stdout",
     "output_type": "stream",
     "text": [
      " 1/56 [..............................] - ETA: 0s - loss: 1.3416 - accuracy: 0.6250WARNING:tensorflow:Callbacks method `on_test_batch_end` is slow compared to the batch time (batch time: 0.0000s vs `on_test_batch_end` time: 0.0010s). Check your callbacks.\n"
     ]
    },
    {
     "name": "stdout",
     "output_type": "stream",
     "text": [
      "56/56 [==============================] - 0s 427us/step - loss: 1.5375 - accuracy: 0.6628\n",
      "Loss: 1.537500023841858\n",
      "Accuracy: 0.6627516746520996\n"
     ]
    }
   ],
   "source": [
    "loss, accuracy = model.evaluate(valid_padded, y_valid_encoded)\n",
    "print(\"Loss:\", loss)\n",
    "print(\"Accuracy:\", accuracy)"
   ]
  },
  {
   "attachments": {},
   "cell_type": "markdown",
   "metadata": {},
   "source": [
    "## XGBOOST"
   ]
  },
  {
   "cell_type": "code",
   "execution_count": 43,
   "metadata": {},
   "outputs": [],
   "source": [
    "xgb = XGBClassifier()"
   ]
  },
  {
   "cell_type": "code",
   "execution_count": 44,
   "metadata": {},
   "outputs": [
    {
     "data": {
      "text/plain": [
       "XGBClassifier(base_score=0.5, booster='gbtree', colsample_bylevel=1,\n",
       "              colsample_bynode=1, colsample_bytree=1, gamma=0, gpu_id=-1,\n",
       "              importance_type='gain', interaction_constraints='',\n",
       "              learning_rate=0.300000012, max_delta_step=0, max_depth=6,\n",
       "              min_child_weight=1, missing=nan, monotone_constraints='()',\n",
       "              n_estimators=100, n_jobs=0, num_parallel_tree=1,\n",
       "              objective='multi:softprob', random_state=0, reg_alpha=0,\n",
       "              reg_lambda=1, scale_pos_weight=None, subsample=1,\n",
       "              tree_method='exact', validate_parameters=1, verbosity=None)"
      ]
     },
     "execution_count": 44,
     "metadata": {},
     "output_type": "execute_result"
    }
   ],
   "source": [
    "xgb.fit(X_train_vec, y_train)"
   ]
  },
  {
   "cell_type": "code",
   "execution_count": 45,
   "metadata": {},
   "outputs": [],
   "source": [
    "y_train_pred_xgb = xgb.predict(X_train_vec)"
   ]
  },
  {
   "cell_type": "code",
   "execution_count": 46,
   "metadata": {},
   "outputs": [
    {
     "name": "stdout",
     "output_type": "stream",
     "text": [
      "Training data accuracy: 79.78%\n"
     ]
    }
   ],
   "source": [
    "train_accuracy_xgb = accuracy_score(y_train, y_train_pred_xgb)\n",
    "print(f'Training data accuracy: {train_accuracy_xgb * 100:.2f}%')"
   ]
  },
  {
   "cell_type": "code",
   "execution_count": 47,
   "metadata": {},
   "outputs": [],
   "source": [
    "y_valid_pred_xgb = xgb.predict(X_valid_vec)"
   ]
  },
  {
   "cell_type": "code",
   "execution_count": 48,
   "metadata": {},
   "outputs": [
    {
     "name": "stdout",
     "output_type": "stream",
     "text": [
      "Validation data accuracy: 69.13%\n"
     ]
    }
   ],
   "source": [
    "valid_accuracy_xgb = accuracy_score(y_valid, y_valid_pred_xgb)\n",
    "print(f'Validation data accuracy: {valid_accuracy_xgb * 100:.2f}%')"
   ]
  },
  {
   "cell_type": "code",
   "execution_count": 49,
   "metadata": {},
   "outputs": [
    {
     "name": "stdout",
     "output_type": "stream",
     "text": [
      "Training Data Metrics:\n",
      "              precision    recall  f1-score   support\n",
      "\n",
      "           0       0.89      0.55      0.68      2394\n",
      "           1       0.94      0.44      0.60       447\n",
      "           2       0.77      0.97      0.86      4307\n",
      "\n",
      "    accuracy                           0.80      7148\n",
      "   macro avg       0.87      0.65      0.71      7148\n",
      "weighted avg       0.82      0.80      0.78      7148\n",
      "\n"
     ]
    }
   ],
   "source": [
    "print(\"Training Data Metrics:\")\n",
    "print(classification_report(y_train, y_train_pred_xgb))"
   ]
  },
  {
   "cell_type": "code",
   "execution_count": 50,
   "metadata": {},
   "outputs": [
    {
     "name": "stdout",
     "output_type": "stream",
     "text": [
      "Validation Data Metrics:\n",
      "              precision    recall  f1-score   support\n",
      "\n",
      "           0       0.67      0.42      0.52       584\n",
      "           1       0.53      0.16      0.25       123\n",
      "           2       0.70      0.90      0.79      1081\n",
      "\n",
      "    accuracy                           0.69      1788\n",
      "   macro avg       0.63      0.49      0.52      1788\n",
      "weighted avg       0.68      0.69      0.66      1788\n",
      "\n"
     ]
    }
   ],
   "source": [
    "print(\"Validation Data Metrics:\")\n",
    "print(classification_report(y_valid, y_valid_pred_xgb))"
   ]
  },
  {
   "cell_type": "code",
   "execution_count": null,
   "metadata": {},
   "outputs": [],
   "source": []
  }
 ],
 "metadata": {
  "kernelspec": {
   "display_name": "learn-env",
   "language": "python",
   "name": "python3"
  },
  "language_info": {
   "codemirror_mode": {
    "name": "ipython",
    "version": 3
   },
   "file_extension": ".py",
   "mimetype": "text/x-python",
   "name": "python",
   "nbconvert_exporter": "python",
   "pygments_lexer": "ipython3",
   "version": "3.8.5"
  },
  "orig_nbformat": 4
 },
 "nbformat": 4,
 "nbformat_minor": 2
}
